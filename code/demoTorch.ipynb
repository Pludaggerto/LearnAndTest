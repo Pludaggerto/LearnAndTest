{
  "nbformat": 4,
  "nbformat_minor": 0,
  "metadata": {
    "colab": {
      "name": "demoTorch.ipynb",
      "provenance": [],
      "collapsed_sections": [],
      "authorship_tag": "ABX9TyPoKrZaqRvu046BWmae3uYI",
      "include_colab_link": true
    },
    "kernelspec": {
      "name": "python3",
      "display_name": "Python 3"
    },
    "language_info": {
      "name": "python"
    },
    "widgets": {
      "application/vnd.jupyter.widget-state+json": {
        "152442a5539543689474869473fbf8da": {
          "model_module": "@jupyter-widgets/controls",
          "model_name": "HBoxModel",
          "model_module_version": "1.5.0",
          "state": {
            "_view_name": "HBoxView",
            "_dom_classes": [],
            "_model_name": "HBoxModel",
            "_view_module": "@jupyter-widgets/controls",
            "_model_module_version": "1.5.0",
            "_view_count": null,
            "_view_module_version": "1.5.0",
            "box_style": "",
            "layout": "IPY_MODEL_a96b61ec60674439b83aaf02c27247a7",
            "_model_module": "@jupyter-widgets/controls",
            "children": [
              "IPY_MODEL_7578b766086d467abcd560a14df81fbe",
              "IPY_MODEL_b4c10cc4b5d5465fba4c39e6505de44d",
              "IPY_MODEL_73a7c55c4cb94de0917102ea0250a78a"
            ]
          }
        },
        "a96b61ec60674439b83aaf02c27247a7": {
          "model_module": "@jupyter-widgets/base",
          "model_name": "LayoutModel",
          "model_module_version": "1.2.0",
          "state": {
            "_view_name": "LayoutView",
            "grid_template_rows": null,
            "right": null,
            "justify_content": null,
            "_view_module": "@jupyter-widgets/base",
            "overflow": null,
            "_model_module_version": "1.2.0",
            "_view_count": null,
            "flex_flow": null,
            "width": null,
            "min_width": null,
            "border": null,
            "align_items": null,
            "bottom": null,
            "_model_module": "@jupyter-widgets/base",
            "top": null,
            "grid_column": null,
            "overflow_y": null,
            "overflow_x": null,
            "grid_auto_flow": null,
            "grid_area": null,
            "grid_template_columns": null,
            "flex": null,
            "_model_name": "LayoutModel",
            "justify_items": null,
            "grid_row": null,
            "max_height": null,
            "align_content": null,
            "visibility": null,
            "align_self": null,
            "height": null,
            "min_height": null,
            "padding": null,
            "grid_auto_rows": null,
            "grid_gap": null,
            "max_width": null,
            "order": null,
            "_view_module_version": "1.2.0",
            "grid_template_areas": null,
            "object_position": null,
            "object_fit": null,
            "grid_auto_columns": null,
            "margin": null,
            "display": null,
            "left": null
          }
        },
        "7578b766086d467abcd560a14df81fbe": {
          "model_module": "@jupyter-widgets/controls",
          "model_name": "HTMLModel",
          "model_module_version": "1.5.0",
          "state": {
            "_view_name": "HTMLView",
            "style": "IPY_MODEL_64518dc29ff7496181faf08e2d49cf44",
            "_dom_classes": [],
            "description": "",
            "_model_name": "HTMLModel",
            "placeholder": "​",
            "_view_module": "@jupyter-widgets/controls",
            "_model_module_version": "1.5.0",
            "value": "100%",
            "_view_count": null,
            "_view_module_version": "1.5.0",
            "description_tooltip": null,
            "_model_module": "@jupyter-widgets/controls",
            "layout": "IPY_MODEL_e0c32aa755584c10b2cf9859fa0e1940"
          }
        },
        "b4c10cc4b5d5465fba4c39e6505de44d": {
          "model_module": "@jupyter-widgets/controls",
          "model_name": "FloatProgressModel",
          "model_module_version": "1.5.0",
          "state": {
            "_view_name": "ProgressView",
            "style": "IPY_MODEL_0c9faa047fcf4f35aa027a661e3159a1",
            "_dom_classes": [],
            "description": "",
            "_model_name": "FloatProgressModel",
            "bar_style": "success",
            "max": 46830571,
            "_view_module": "@jupyter-widgets/controls",
            "_model_module_version": "1.5.0",
            "value": 46830571,
            "_view_count": null,
            "_view_module_version": "1.5.0",
            "orientation": "horizontal",
            "min": 0,
            "description_tooltip": null,
            "_model_module": "@jupyter-widgets/controls",
            "layout": "IPY_MODEL_3dc3c80978474ccb86c85706d6200096"
          }
        },
        "73a7c55c4cb94de0917102ea0250a78a": {
          "model_module": "@jupyter-widgets/controls",
          "model_name": "HTMLModel",
          "model_module_version": "1.5.0",
          "state": {
            "_view_name": "HTMLView",
            "style": "IPY_MODEL_cbb2ba7a3f2a46e6b37a061407140a30",
            "_dom_classes": [],
            "description": "",
            "_model_name": "HTMLModel",
            "placeholder": "​",
            "_view_module": "@jupyter-widgets/controls",
            "_model_module_version": "1.5.0",
            "value": " 44.7M/44.7M [00:00&lt;00:00, 142MB/s]",
            "_view_count": null,
            "_view_module_version": "1.5.0",
            "description_tooltip": null,
            "_model_module": "@jupyter-widgets/controls",
            "layout": "IPY_MODEL_9ce1a17b22d34be2b1ab64e293eedce7"
          }
        },
        "64518dc29ff7496181faf08e2d49cf44": {
          "model_module": "@jupyter-widgets/controls",
          "model_name": "DescriptionStyleModel",
          "model_module_version": "1.5.0",
          "state": {
            "_view_name": "StyleView",
            "_model_name": "DescriptionStyleModel",
            "description_width": "",
            "_view_module": "@jupyter-widgets/base",
            "_model_module_version": "1.5.0",
            "_view_count": null,
            "_view_module_version": "1.2.0",
            "_model_module": "@jupyter-widgets/controls"
          }
        },
        "e0c32aa755584c10b2cf9859fa0e1940": {
          "model_module": "@jupyter-widgets/base",
          "model_name": "LayoutModel",
          "model_module_version": "1.2.0",
          "state": {
            "_view_name": "LayoutView",
            "grid_template_rows": null,
            "right": null,
            "justify_content": null,
            "_view_module": "@jupyter-widgets/base",
            "overflow": null,
            "_model_module_version": "1.2.0",
            "_view_count": null,
            "flex_flow": null,
            "width": null,
            "min_width": null,
            "border": null,
            "align_items": null,
            "bottom": null,
            "_model_module": "@jupyter-widgets/base",
            "top": null,
            "grid_column": null,
            "overflow_y": null,
            "overflow_x": null,
            "grid_auto_flow": null,
            "grid_area": null,
            "grid_template_columns": null,
            "flex": null,
            "_model_name": "LayoutModel",
            "justify_items": null,
            "grid_row": null,
            "max_height": null,
            "align_content": null,
            "visibility": null,
            "align_self": null,
            "height": null,
            "min_height": null,
            "padding": null,
            "grid_auto_rows": null,
            "grid_gap": null,
            "max_width": null,
            "order": null,
            "_view_module_version": "1.2.0",
            "grid_template_areas": null,
            "object_position": null,
            "object_fit": null,
            "grid_auto_columns": null,
            "margin": null,
            "display": null,
            "left": null
          }
        },
        "0c9faa047fcf4f35aa027a661e3159a1": {
          "model_module": "@jupyter-widgets/controls",
          "model_name": "ProgressStyleModel",
          "model_module_version": "1.5.0",
          "state": {
            "_view_name": "StyleView",
            "_model_name": "ProgressStyleModel",
            "description_width": "",
            "_view_module": "@jupyter-widgets/base",
            "_model_module_version": "1.5.0",
            "_view_count": null,
            "_view_module_version": "1.2.0",
            "bar_color": null,
            "_model_module": "@jupyter-widgets/controls"
          }
        },
        "3dc3c80978474ccb86c85706d6200096": {
          "model_module": "@jupyter-widgets/base",
          "model_name": "LayoutModel",
          "model_module_version": "1.2.0",
          "state": {
            "_view_name": "LayoutView",
            "grid_template_rows": null,
            "right": null,
            "justify_content": null,
            "_view_module": "@jupyter-widgets/base",
            "overflow": null,
            "_model_module_version": "1.2.0",
            "_view_count": null,
            "flex_flow": null,
            "width": null,
            "min_width": null,
            "border": null,
            "align_items": null,
            "bottom": null,
            "_model_module": "@jupyter-widgets/base",
            "top": null,
            "grid_column": null,
            "overflow_y": null,
            "overflow_x": null,
            "grid_auto_flow": null,
            "grid_area": null,
            "grid_template_columns": null,
            "flex": null,
            "_model_name": "LayoutModel",
            "justify_items": null,
            "grid_row": null,
            "max_height": null,
            "align_content": null,
            "visibility": null,
            "align_self": null,
            "height": null,
            "min_height": null,
            "padding": null,
            "grid_auto_rows": null,
            "grid_gap": null,
            "max_width": null,
            "order": null,
            "_view_module_version": "1.2.0",
            "grid_template_areas": null,
            "object_position": null,
            "object_fit": null,
            "grid_auto_columns": null,
            "margin": null,
            "display": null,
            "left": null
          }
        },
        "cbb2ba7a3f2a46e6b37a061407140a30": {
          "model_module": "@jupyter-widgets/controls",
          "model_name": "DescriptionStyleModel",
          "model_module_version": "1.5.0",
          "state": {
            "_view_name": "StyleView",
            "_model_name": "DescriptionStyleModel",
            "description_width": "",
            "_view_module": "@jupyter-widgets/base",
            "_model_module_version": "1.5.0",
            "_view_count": null,
            "_view_module_version": "1.2.0",
            "_model_module": "@jupyter-widgets/controls"
          }
        },
        "9ce1a17b22d34be2b1ab64e293eedce7": {
          "model_module": "@jupyter-widgets/base",
          "model_name": "LayoutModel",
          "model_module_version": "1.2.0",
          "state": {
            "_view_name": "LayoutView",
            "grid_template_rows": null,
            "right": null,
            "justify_content": null,
            "_view_module": "@jupyter-widgets/base",
            "overflow": null,
            "_model_module_version": "1.2.0",
            "_view_count": null,
            "flex_flow": null,
            "width": null,
            "min_width": null,
            "border": null,
            "align_items": null,
            "bottom": null,
            "_model_module": "@jupyter-widgets/base",
            "top": null,
            "grid_column": null,
            "overflow_y": null,
            "overflow_x": null,
            "grid_auto_flow": null,
            "grid_area": null,
            "grid_template_columns": null,
            "flex": null,
            "_model_name": "LayoutModel",
            "justify_items": null,
            "grid_row": null,
            "max_height": null,
            "align_content": null,
            "visibility": null,
            "align_self": null,
            "height": null,
            "min_height": null,
            "padding": null,
            "grid_auto_rows": null,
            "grid_gap": null,
            "max_width": null,
            "order": null,
            "_view_module_version": "1.2.0",
            "grid_template_areas": null,
            "object_position": null,
            "object_fit": null,
            "grid_auto_columns": null,
            "margin": null,
            "display": null,
            "left": null
          }
        }
      }
    }
  },
  "cells": [
    {
      "cell_type": "markdown",
      "metadata": {
        "id": "view-in-github",
        "colab_type": "text"
      },
      "source": [
        "<a href=\"https://colab.research.google.com/github/Pludaggerto/learning/blob/main/code/demoTorch.ipynb\" target=\"_parent\"><img src=\"https://colab.research.google.com/assets/colab-badge.svg\" alt=\"Open In Colab\"/></a>"
      ]
    },
    {
      "cell_type": "markdown",
      "source": [
        "## 1 张量\n",
        "张量的使用和Numpy中的ndarrays很类似, 区别在于张量可以在GPU或其它专用硬件上运行, 这样可以得到更快的加速效果。"
      ],
      "metadata": {
        "id": "ioU0Q1BbiFjv"
      }
    },
    {
      "cell_type": "code",
      "source": [
        "import torch\n",
        "import numpy as np"
      ],
      "metadata": {
        "id": "krQBSSwEiRpB"
      },
      "execution_count": null,
      "outputs": []
    },
    {
      "cell_type": "code",
      "source": [
        ""
      ],
      "metadata": {
        "id": "VsJsSN1Bzgi1"
      },
      "execution_count": null,
      "outputs": []
    },
    {
      "cell_type": "code",
      "source": [
        "data = [[1, 2], [3, 4]]\n",
        "x_data = torch.tensor(data)\n",
        "x_data"
      ],
      "metadata": {
        "id": "izn19_jyiWhI",
        "colab": {
          "base_uri": "https://localhost:8080/"
        },
        "outputId": "5dac176f-d374-4588-c549-e237b43670d1"
      },
      "execution_count": null,
      "outputs": [
        {
          "output_type": "execute_result",
          "data": {
            "text/plain": [
              "tensor([[1, 2],\n",
              "        [3, 4]])"
            ]
          },
          "metadata": {},
          "execution_count": 3
        }
      ]
    },
    {
      "cell_type": "code",
      "source": [
        "np_array = np.array(data)\n",
        "x_np = torch.from_numpy(np_array)\n",
        "x_np"
      ],
      "metadata": {
        "colab": {
          "base_uri": "https://localhost:8080/"
        },
        "id": "XM-i03PcyW8a",
        "outputId": "5dbd84ac-503f-468a-9cdb-3554b8ea241e"
      },
      "execution_count": null,
      "outputs": [
        {
          "output_type": "execute_result",
          "data": {
            "text/plain": [
              "tensor([[1, 2],\n",
              "        [3, 4]])"
            ]
          },
          "metadata": {},
          "execution_count": 4
        }
      ]
    },
    {
      "cell_type": "markdown",
      "source": [
        "张量的拼接\n"
      ],
      "metadata": {
        "id": "u--WCQEJzLgL"
      }
    },
    {
      "cell_type": "code",
      "source": [
        "tensor = torch.ones(4, 4)\n",
        "t1 = torch.cat([tensor, tensor, tensor], dim=1)\n",
        "print(t1)"
      ],
      "metadata": {
        "colab": {
          "base_uri": "https://localhost:8080/"
        },
        "id": "FhyQy6FPydWU",
        "outputId": "1c13f461-88ee-4526-e202-2cef12c4e832"
      },
      "execution_count": null,
      "outputs": [
        {
          "output_type": "stream",
          "name": "stdout",
          "text": [
            "tensor([[1., 1., 1., 1., 1., 1., 1., 1., 1., 1., 1., 1.],\n",
            "        [1., 1., 1., 1., 1., 1., 1., 1., 1., 1., 1., 1.],\n",
            "        [1., 1., 1., 1., 1., 1., 1., 1., 1., 1., 1., 1.],\n",
            "        [1., 1., 1., 1., 1., 1., 1., 1., 1., 1., 1., 1.]])\n"
          ]
        }
      ]
    },
    {
      "cell_type": "markdown",
      "source": [
        "# 2 自动求导\n",
        "## 2.1 背景\n",
        "torch.autograd是 PyTorch 的自动差分引擎，可为神经网络训练提供支持。 在本节中，您将获得有关 Autograd 如何帮助神经网络训练的概念性理解。"
      ],
      "metadata": {
        "id": "yDudasgqziob"
      }
    },
    {
      "cell_type": "code",
      "source": [
        "import torch, torchvision\n",
        "model = torchvision.models.resnet18(pretrained=True)\n",
        "data = torch.rand(1, 3, 64, 64)\n",
        "labels = torch.rand(1, 1000)"
      ],
      "metadata": {
        "colab": {
          "base_uri": "https://localhost:8080/",
          "height": 86,
          "referenced_widgets": [
            "152442a5539543689474869473fbf8da",
            "a96b61ec60674439b83aaf02c27247a7",
            "7578b766086d467abcd560a14df81fbe",
            "b4c10cc4b5d5465fba4c39e6505de44d",
            "73a7c55c4cb94de0917102ea0250a78a",
            "64518dc29ff7496181faf08e2d49cf44",
            "e0c32aa755584c10b2cf9859fa0e1940",
            "0c9faa047fcf4f35aa027a661e3159a1",
            "3dc3c80978474ccb86c85706d6200096",
            "cbb2ba7a3f2a46e6b37a061407140a30",
            "9ce1a17b22d34be2b1ab64e293eedce7"
          ]
        },
        "id": "yoWVlsP-zmrW",
        "outputId": "5715d7a6-50cc-4108-caf3-f627b8f3bb66"
      },
      "execution_count": null,
      "outputs": [
        {
          "output_type": "stream",
          "name": "stderr",
          "text": [
            "Downloading: \"https://download.pytorch.org/models/resnet18-f37072fd.pth\" to /root/.cache/torch/hub/checkpoints/resnet18-f37072fd.pth\n"
          ]
        },
        {
          "output_type": "display_data",
          "data": {
            "application/vnd.jupyter.widget-view+json": {
              "model_id": "152442a5539543689474869473fbf8da",
              "version_minor": 0,
              "version_major": 2
            },
            "text/plain": [
              "  0%|          | 0.00/44.7M [00:00<?, ?B/s]"
            ]
          },
          "metadata": {}
        }
      ]
    },
    {
      "cell_type": "markdown",
      "source": [
        "我们通过模型的每一层运行输入数据以进行预测。 这是正向传播。"
      ],
      "metadata": {
        "id": "C19p0e5_z_3L"
      }
    },
    {
      "cell_type": "code",
      "source": [
        "prediction = model(data)\n",
        "prediction.shape"
      ],
      "metadata": {
        "colab": {
          "base_uri": "https://localhost:8080/"
        },
        "id": "g7ZV0sSdz6bp",
        "outputId": "753e47e8-5990-4260-a33f-654cc7e55870"
      },
      "execution_count": null,
      "outputs": [
        {
          "output_type": "execute_result",
          "data": {
            "text/plain": [
              "torch.Size([1, 1000])"
            ]
          },
          "metadata": {},
          "execution_count": 8
        }
      ]
    },
    {
      "cell_type": "markdown",
      "source": [
        "我们使用模型的预测和相应的标签来计算误差（loss）。 下一步是通过网络反向传播此误差。 当我们在误差张量上调用.backward()时，开始反向传播。 然后，Autograd 会为每个模型参数计算梯度并将其存储在参数的.grad属性中。"
      ],
      "metadata": {
        "id": "X1X0gd0a06jI"
      }
    },
    {
      "cell_type": "code",
      "source": [
        "loss = (prediction - labels).sum()\n",
        "loss.backward() \n",
        "loss"
      ],
      "metadata": {
        "colab": {
          "base_uri": "https://localhost:8080/"
        },
        "id": "Yw3wjab105_B",
        "outputId": "004abcee-dfe8-4b74-e5fb-b3f2b1abb139"
      },
      "execution_count": null,
      "outputs": [
        {
          "output_type": "execute_result",
          "data": {
            "text/plain": [
              "tensor(-509.6292, grad_fn=<SumBackward0>)"
            ]
          },
          "metadata": {},
          "execution_count": 9
        }
      ]
    },
    {
      "cell_type": "markdown",
      "source": [
        "最后，我们调用.step()启动梯度下降。 优化器通过.grad中存储的梯度来调整每个参数。"
      ],
      "metadata": {
        "id": "cjApr8zPhVQY"
      }
    },
    {
      "cell_type": "code",
      "source": [
        "optim = torch.optim.SGD(model.parameters(), lr=1e-2, momentum=0.9)\n",
        "optim.step()\n"
      ],
      "metadata": {
        "id": "PMT5x4bIgVU3"
      },
      "execution_count": null,
      "outputs": []
    },
    {
      "cell_type": "markdown",
      "source": [
        "# 2.2 Autograd的微分\n",
        "让我们来看看autograd如何收集梯度。 我们用`requires_grad=True`创建两个张量`a`和`b`。 这向autograd发出信号，应跟踪对它们的所有操作。"
      ],
      "metadata": {
        "id": "VbFtLEIgkZu8"
      }
    },
    {
      "cell_type": "code",
      "source": [
        "a = torch.tensor([2., 3.], requires_grad=True)\n",
        "b = torch.tensor([6., 4.], requires_grad=True)\n",
        "Q = 3*a**3 - b**2\n",
        "external_grad = torch.tensor([1., 1.])\n",
        "Q.backward(gradient=external_grad)\n",
        "\n",
        "# check if collected gradients are correct\n",
        "print(9*a**2 == a.grad)\n",
        "print(-2*b == b.grad)"
      ],
      "metadata": {
        "colab": {
          "base_uri": "https://localhost:8080/"
        },
        "id": "FjgTpzpqj1OP",
        "outputId": "e5326129-dab7-4e8e-a18d-93ec029fcbd5"
      },
      "execution_count": null,
      "outputs": [
        {
          "output_type": "stream",
          "name": "stdout",
          "text": [
            "tensor([True, True])\n",
            "tensor([True, True])\n"
          ]
        }
      ]
    },
    {
      "cell_type": "markdown",
      "source": [
        "# 3 神经网络"
      ],
      "metadata": {
        "id": "i6oK_-tgk-GZ"
      }
    },
    {
      "cell_type": "markdown",
      "source": [
        "![3250cbba812d68265cf7815d987bcd1b.png](data:image/png;base64,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)"
      ],
      "metadata": {
        "id": "xPw7Xm0Zk0vH"
      }
    },
    {
      "cell_type": "markdown",
      "source": [
        ""
      ],
      "metadata": {
        "id": "sBmJqicS1EZA"
      }
    }
  ]
}