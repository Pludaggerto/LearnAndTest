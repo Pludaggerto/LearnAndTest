{
 "cells": [
  {
   "cell_type": "code",
   "execution_count": 26,
   "id": "91a9e239",
   "metadata": {
    "ExecuteTime": {
     "end_time": "2022-03-12T08:20:33.644506Z",
     "start_time": "2022-03-12T08:20:33.639520Z"
    }
   },
   "outputs": [
    {
     "data": {
      "text/plain": [
       "{'width_db_file': 'None',\n",
       " 'class_list': '[2, 3, 4, 5, 22, 23, 24]',\n",
       " 'use_fractional_inundation': '[True, True, False, False, False, False, False]',\n",
       " 'use_segmentation': '[False, True, True, True, False, True, True]',\n",
       " 'use_heights': '[False, False, True, False, False, False, False]',\n",
       " 'min_points': '100',\n",
       " 'use_width_db': 'False',\n",
       " 'ds': 'None',\n",
       " 'refine_centerline': 'False',\n",
       " 'smooth': '0.01',\n",
       " 'alpha': '1',\n",
       " 'max_iter': '1',\n",
       " 'scalar_max_width': '600.0',\n",
       " 'minobs': '1',\n",
       " 'trim_ends': 'False',\n",
       " 'min_fit_points': '3',\n",
       " 'do_improved_geolocation': 'True',\n",
       " 'geolocation_method': 'taylor',\n",
       " 'height_agg_method': 'weight',\n",
       " 'area_agg_method': 'composite',\n",
       " 'slope_method': 'weighted',\n",
       " 'use_ext_dist_coef': 'True',\n",
       " 'outlier_method': 'iterative_linear',\n",
       " 'outlier_abs_thresh': '2',\n",
       " 'outlier_rel_thresh': '68',\n",
       " 'outlier_upr_thresh': '90',\n",
       " 'outlier_iter_num': '3',\n",
       " 'reach_db_path': \"'D:\\\\SWOT\\\\Data\\\\SWORD_netcdf_v2\\\\netcdf'\",\n",
       " 'l2_file': \"'D:\\\\SWOT\\\\Code\\\\swot-hydrology-toolbox\\\\test\\\\afrique\\\\output\\\\river\\\\simu'\",\n",
       " 'fout_reach': \"'D:\\\\SWOT\\\\Code\\\\swot-hydrology-toolbox\\\\test\\\\afrique\\\\output\\\\river\\\\reaches'\",\n",
       " 'fout_node': \"'D:\\\\SWOT\\\\Code\\\\swot-hydrology-toolbox\\\\test\\\\afrique\\\\output\\\\river\\\\nodes'\",\n",
       " 'fout_index': \"'D:\\\\SWOT\\\\Code\\\\swot-hydrology-toolbox\\\\test\\\\afrique\\\\output\\\\index\\\\index.nc'\"}"
      ]
     },
     "execution_count": 26,
     "metadata": {},
     "output_type": "execute_result"
    }
   ],
   "source": [
    "import RDF\n",
    "config = RDF.RDF()\n",
    "rdf_file = \"C:/Users/hp/Desktop/parameter_river.rdf\"\n",
    "config.rdfParse(rdf_file)\n",
    "config = dict(config)\n",
    "config"
   ]
  }
 ],
 "metadata": {
  "kernelspec": {
   "display_name": "Python 3",
   "language": "python",
   "name": "python3"
  },
  "language_info": {
   "codemirror_mode": {
    "name": "ipython",
    "version": 3
   },
   "file_extension": ".py",
   "mimetype": "text/x-python",
   "name": "python",
   "nbconvert_exporter": "python",
   "pygments_lexer": "ipython3",
   "version": "3.6.7"
  },
  "latex_envs": {
   "LaTeX_envs_menu_present": true,
   "autoclose": false,
   "autocomplete": true,
   "bibliofile": "biblio.bib",
   "cite_by": "apalike",
   "current_citInitial": 1,
   "eqLabelWithNumbers": true,
   "eqNumInitial": 1,
   "hotkeys": {
    "equation": "Ctrl-E",
    "itemize": "Ctrl-I"
   },
   "labels_anchors": false,
   "latex_user_defs": false,
   "report_style_numbering": false,
   "user_envs_cfg": false
  },
  "varInspector": {
   "cols": {
    "lenName": 16,
    "lenType": 16,
    "lenVar": 40
   },
   "kernels_config": {
    "python": {
     "delete_cmd_postfix": "",
     "delete_cmd_prefix": "del ",
     "library": "var_list.py",
     "varRefreshCmd": "print(var_dic_list())"
    },
    "r": {
     "delete_cmd_postfix": ") ",
     "delete_cmd_prefix": "rm(",
     "library": "var_list.r",
     "varRefreshCmd": "cat(var_dic_list()) "
    }
   },
   "types_to_exclude": [
    "module",
    "function",
    "builtin_function_or_method",
    "instance",
    "_Feature"
   ],
   "window_display": false
  }
 },
 "nbformat": 4,
 "nbformat_minor": 5
}
